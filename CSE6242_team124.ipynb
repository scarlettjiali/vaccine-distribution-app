{
 "cells": [
  {
   "cell_type": "code",
   "execution_count": 1,
   "metadata": {
    "id": "ti1-yPtoZ11a"
   },
   "outputs": [],
   "source": [
    "# -*- coding: utf-8 -*-\n",
    "import pandas as pd, numpy as np\n",
    "import json\n",
    "import collections\n",
    "from datetime import datetime\n",
    "import warnings\n",
    "import seaborn as sns\n",
    "warnings.filterwarnings(\"ignore\")\n",
    "from sklearn.metrics import r2_score\n",
    "from sklearn.metrics import mean_squared_error\n",
    "from sklearn.linear_model import LassoLarsIC\n",
    "from sklearn.linear_model import RidgeCV, LassoCV, Ridge, Lasso\n",
    "from sklearn.ensemble import RandomForestRegressor\n",
    "from sklearn.ensemble import GradientBoostingRegressor\n",
    "import xgboost as xgb\n",
    "from sklearn import preprocessing\n",
    "from sklearn.preprocessing import StandardScaler\n",
    "import collections\n",
    "from sklearn.model_selection import train_test_split"
   ]
  },
  {
   "cell_type": "markdown",
   "metadata": {
    "id": "V7KWE1y-cevX"
   },
   "source": [
    "## load data"
   ]
  },
  {
   "cell_type": "code",
   "execution_count": 2,
   "metadata": {
    "colab": {
     "base_uri": "https://localhost:8080/",
     "height": 323
    },
    "id": "ZO4FzB3uY2PM",
    "outputId": "6d703184-8d8a-41ae-dcc6-259aad58597b"
   },
   "outputs": [
    {
     "name": "stdout",
     "output_type": "stream",
     "text": [
      "The dataset currently contains 10882596 records, here is a sample:\n"
     ]
    },
    {
     "data": {
      "text/html": [
       "<div>\n",
       "<style scoped>\n",
       "    .dataframe tbody tr th:only-of-type {\n",
       "        vertical-align: middle;\n",
       "    }\n",
       "\n",
       "    .dataframe tbody tr th {\n",
       "        vertical-align: top;\n",
       "    }\n",
       "\n",
       "    .dataframe thead th {\n",
       "        text-align: right;\n",
       "    }\n",
       "</style>\n",
       "<table border=\"1\" class=\"dataframe\">\n",
       "  <thead>\n",
       "    <tr style=\"text-align: right;\">\n",
       "      <th></th>\n",
       "      <th>key</th>\n",
       "      <th>date</th>\n",
       "      <th>subregion1_name</th>\n",
       "      <th>aggregation_level</th>\n",
       "      <th>new_confirmed</th>\n",
       "      <th>new_deceased</th>\n",
       "      <th>new_recovered</th>\n",
       "      <th>new_tested</th>\n",
       "      <th>total_deceased</th>\n",
       "      <th>total_recovered</th>\n",
       "      <th>total_hospitalized</th>\n",
       "      <th>current_hospitalized</th>\n",
       "      <th>population</th>\n",
       "      <th>population_density</th>\n",
       "      <th>human_development_index</th>\n",
       "      <th>human_capital_index</th>\n",
       "      <th>life_expectancy</th>\n",
       "      <th>diabetes_prevalence</th>\n",
       "      <th>mobility_grocery_and_pharmacy</th>\n",
       "      <th>mobility_residential</th>\n",
       "      <th>school_closing</th>\n",
       "      <th>workplace_closing</th>\n",
       "      <th>cancel_public_events</th>\n",
       "      <th>restrictions_on_gatherings</th>\n",
       "      <th>public_transport_closing</th>\n",
       "      <th>stay_at_home_requirements</th>\n",
       "      <th>restrictions_on_internal_movement</th>\n",
       "      <th>international_travel_controls</th>\n",
       "      <th>public_information_campaigns</th>\n",
       "      <th>testing_policy</th>\n",
       "      <th>contact_tracing</th>\n",
       "      <th>emergency_investment_in_healthcare</th>\n",
       "      <th>investment_in_vaccines</th>\n",
       "      <th>facial_coverings</th>\n",
       "      <th>average_temperature</th>\n",
       "    </tr>\n",
       "  </thead>\n",
       "  <tbody>\n",
       "    <tr>\n",
       "      <th>4146526</th>\n",
       "      <td>DE_NW_05758</td>\n",
       "      <td>2020-12-28</td>\n",
       "      <td>North Rhine-Westphalia</td>\n",
       "      <td>2</td>\n",
       "      <td>15.0</td>\n",
       "      <td>1.0</td>\n",
       "      <td>14.0</td>\n",
       "      <td>NaN</td>\n",
       "      <td>84.0</td>\n",
       "      <td>5060.0</td>\n",
       "      <td>NaN</td>\n",
       "      <td>NaN</td>\n",
       "      <td>250783.0</td>\n",
       "      <td>558.1</td>\n",
       "      <td>NaN</td>\n",
       "      <td>NaN</td>\n",
       "      <td>NaN</td>\n",
       "      <td>NaN</td>\n",
       "      <td>NaN</td>\n",
       "      <td>NaN</td>\n",
       "      <td>NaN</td>\n",
       "      <td>NaN</td>\n",
       "      <td>NaN</td>\n",
       "      <td>NaN</td>\n",
       "      <td>NaN</td>\n",
       "      <td>NaN</td>\n",
       "      <td>NaN</td>\n",
       "      <td>NaN</td>\n",
       "      <td>NaN</td>\n",
       "      <td>NaN</td>\n",
       "      <td>NaN</td>\n",
       "      <td>NaN</td>\n",
       "      <td>NaN</td>\n",
       "      <td>NaN</td>\n",
       "      <td>3.901235</td>\n",
       "    </tr>\n",
       "    <tr>\n",
       "      <th>5107669</th>\n",
       "      <td>HT_GA</td>\n",
       "      <td>2021-02-01</td>\n",
       "      <td>Grand'Anse</td>\n",
       "      <td>1</td>\n",
       "      <td>0.0</td>\n",
       "      <td>0.0</td>\n",
       "      <td>NaN</td>\n",
       "      <td>NaN</td>\n",
       "      <td>13.0</td>\n",
       "      <td>NaN</td>\n",
       "      <td>NaN</td>\n",
       "      <td>NaN</td>\n",
       "      <td>NaN</td>\n",
       "      <td>NaN</td>\n",
       "      <td>NaN</td>\n",
       "      <td>NaN</td>\n",
       "      <td>NaN</td>\n",
       "      <td>NaN</td>\n",
       "      <td>NaN</td>\n",
       "      <td>NaN</td>\n",
       "      <td>NaN</td>\n",
       "      <td>NaN</td>\n",
       "      <td>NaN</td>\n",
       "      <td>NaN</td>\n",
       "      <td>NaN</td>\n",
       "      <td>NaN</td>\n",
       "      <td>NaN</td>\n",
       "      <td>NaN</td>\n",
       "      <td>NaN</td>\n",
       "      <td>NaN</td>\n",
       "      <td>NaN</td>\n",
       "      <td>NaN</td>\n",
       "      <td>NaN</td>\n",
       "      <td>NaN</td>\n",
       "      <td>25.541667</td>\n",
       "    </tr>\n",
       "    <tr>\n",
       "      <th>8066788</th>\n",
       "      <td>PE_AMA_0403</td>\n",
       "      <td>2020-02-06</td>\n",
       "      <td>Amazonas</td>\n",
       "      <td>2</td>\n",
       "      <td>NaN</td>\n",
       "      <td>NaN</td>\n",
       "      <td>NaN</td>\n",
       "      <td>NaN</td>\n",
       "      <td>NaN</td>\n",
       "      <td>NaN</td>\n",
       "      <td>NaN</td>\n",
       "      <td>NaN</td>\n",
       "      <td>13953.0</td>\n",
       "      <td>NaN</td>\n",
       "      <td>NaN</td>\n",
       "      <td>NaN</td>\n",
       "      <td>NaN</td>\n",
       "      <td>NaN</td>\n",
       "      <td>NaN</td>\n",
       "      <td>NaN</td>\n",
       "      <td>NaN</td>\n",
       "      <td>NaN</td>\n",
       "      <td>NaN</td>\n",
       "      <td>NaN</td>\n",
       "      <td>NaN</td>\n",
       "      <td>NaN</td>\n",
       "      <td>NaN</td>\n",
       "      <td>NaN</td>\n",
       "      <td>NaN</td>\n",
       "      <td>NaN</td>\n",
       "      <td>NaN</td>\n",
       "      <td>NaN</td>\n",
       "      <td>NaN</td>\n",
       "      <td>NaN</td>\n",
       "      <td>23.244444</td>\n",
       "    </tr>\n",
       "    <tr>\n",
       "      <th>6182039</th>\n",
       "      <td>IN_GJ_JMN</td>\n",
       "      <td>2021-01-24</td>\n",
       "      <td>Gujarat</td>\n",
       "      <td>2</td>\n",
       "      <td>6.0</td>\n",
       "      <td>0.0</td>\n",
       "      <td>11.0</td>\n",
       "      <td>0.0</td>\n",
       "      <td>35.0</td>\n",
       "      <td>10348.0</td>\n",
       "      <td>NaN</td>\n",
       "      <td>NaN</td>\n",
       "      <td>2160119.0</td>\n",
       "      <td>NaN</td>\n",
       "      <td>NaN</td>\n",
       "      <td>NaN</td>\n",
       "      <td>NaN</td>\n",
       "      <td>NaN</td>\n",
       "      <td>-12.0</td>\n",
       "      <td>8.0</td>\n",
       "      <td>NaN</td>\n",
       "      <td>NaN</td>\n",
       "      <td>NaN</td>\n",
       "      <td>NaN</td>\n",
       "      <td>NaN</td>\n",
       "      <td>NaN</td>\n",
       "      <td>NaN</td>\n",
       "      <td>NaN</td>\n",
       "      <td>NaN</td>\n",
       "      <td>NaN</td>\n",
       "      <td>NaN</td>\n",
       "      <td>NaN</td>\n",
       "      <td>NaN</td>\n",
       "      <td>NaN</td>\n",
       "      <td>19.492063</td>\n",
       "    </tr>\n",
       "    <tr>\n",
       "      <th>2923918</th>\n",
       "      <td>BR_SP_353560</td>\n",
       "      <td>2020-04-16</td>\n",
       "      <td>São Paulo</td>\n",
       "      <td>2</td>\n",
       "      <td>NaN</td>\n",
       "      <td>NaN</td>\n",
       "      <td>NaN</td>\n",
       "      <td>NaN</td>\n",
       "      <td>NaN</td>\n",
       "      <td>NaN</td>\n",
       "      <td>NaN</td>\n",
       "      <td>NaN</td>\n",
       "      <td>17388.0</td>\n",
       "      <td>NaN</td>\n",
       "      <td>0.771</td>\n",
       "      <td>NaN</td>\n",
       "      <td>NaN</td>\n",
       "      <td>NaN</td>\n",
       "      <td>NaN</td>\n",
       "      <td>NaN</td>\n",
       "      <td>NaN</td>\n",
       "      <td>NaN</td>\n",
       "      <td>NaN</td>\n",
       "      <td>NaN</td>\n",
       "      <td>NaN</td>\n",
       "      <td>NaN</td>\n",
       "      <td>NaN</td>\n",
       "      <td>NaN</td>\n",
       "      <td>NaN</td>\n",
       "      <td>NaN</td>\n",
       "      <td>NaN</td>\n",
       "      <td>NaN</td>\n",
       "      <td>NaN</td>\n",
       "      <td>NaN</td>\n",
       "      <td>20.722222</td>\n",
       "    </tr>\n",
       "  </tbody>\n",
       "</table>\n",
       "</div>"
      ],
      "text/plain": [
       "                  key        date  ... facial_coverings  average_temperature\n",
       "4146526   DE_NW_05758  2020-12-28  ...              NaN             3.901235\n",
       "5107669         HT_GA  2021-02-01  ...              NaN            25.541667\n",
       "8066788   PE_AMA_0403  2020-02-06  ...              NaN            23.244444\n",
       "6182039     IN_GJ_JMN  2021-01-24  ...              NaN            19.492063\n",
       "2923918  BR_SP_353560  2020-04-16  ...              NaN            20.722222\n",
       "\n",
       "[5 rows x 35 columns]"
      ]
     },
     "execution_count": 2,
     "metadata": {
      "tags": []
     },
     "output_type": "execute_result"
    }
   ],
   "source": [
    "data = pd.read_csv(\n",
    "    \"https://storage.googleapis.com/covid19-open-data/v2/main.csv\",usecols=['key','date', 'subregion1_name','aggregation_level', 'new_confirmed', 'new_deceased', 'new_recovered', 'new_tested', 'total_deceased', 'total_recovered', \n",
    "                           'total_hospitalized', 'current_hospitalized', \n",
    "                           'population',\n",
    "                           'population_density', 'human_development_index',\n",
    "                           'human_capital_index', 'life_expectancy', \n",
    "                           'diabetes_prevalence', 'mobility_grocery_and_pharmacy', \n",
    "                           'mobility_residential', 'school_closing', 'workplace_closing', \n",
    "                           'cancel_public_events', 'restrictions_on_gatherings', \n",
    "                           'public_transport_closing', 'stay_at_home_requirements', \n",
    "                           'testing_policy', \n",
    "                           'contact_tracing','investment_in_vaccines', \n",
    "                           'facial_coverings', \n",
    "                           'average_temperature',\n",
    "                           'restrictions_on_internal_movement','international_travel_controls',\n",
    "                           'public_information_campaigns',\n",
    "                           'emergency_investment_in_healthcare'\n",
    "]\n",
    "    # keep_default_na=False,\n",
    "    # na_values=[\"\"],\n",
    ")\n",
    "\n",
    "\n",
    "# Print a small snippet of the dataset\n",
    "print(f\"The dataset currently contains {len(data)} records, here is a sample:\")\n",
    "data.sample(5)"
   ]
  },
  {
   "cell_type": "code",
   "execution_count": 3,
   "metadata": {
    "id": "dSJyAyZFzF6U"
   },
   "outputs": [],
   "source": [
    "# load vaccine data\n",
    "vacc = pd.read_csv(\n",
    "    'https://storage.googleapis.com/covid19-open-data/v2/vaccinations.csv')"
   ]
  },
  {
   "cell_type": "code",
   "execution_count": 4,
   "metadata": {
    "id": "bQH01Irvzf5e"
   },
   "outputs": [],
   "source": [
    "# age = pd.read_csv(\n",
    "#     'https://storage.googleapis.com/covid19-open-data/v2/by-age.csv')"
   ]
  },
  {
   "cell_type": "markdown",
   "metadata": {
    "id": "Oq_3Ri4AVSRN"
   },
   "source": [
    "## Data cleaning"
   ]
  },
  {
   "cell_type": "code",
   "execution_count": 5,
   "metadata": {
    "id": "eTGimNllkUwS"
   },
   "outputs": [],
   "source": [
    "data_state=data[(data['key'].str.contains(\"US_\"))&(data['aggregation_level']==1)]"
   ]
  },
  {
   "cell_type": "markdown",
   "metadata": {
    "id": "0kniFyX6pOwG"
   },
   "source": [
    "Since we have more features on state level than on county level, we will use state level data for prediction."
   ]
  },
  {
   "cell_type": "code",
   "execution_count": 6,
   "metadata": {
    "id": "jAE2mtzhemva"
   },
   "outputs": [],
   "source": [
    "#filter non-values\n",
    "data_state= data_state.dropna(thresh=0.1*len(data_state), axis=1)"
   ]
  },
  {
   "cell_type": "markdown",
   "metadata": {
    "id": "ZnMweq1QVY5y"
   },
   "source": [
    "Merge main with vaccine data"
   ]
  },
  {
   "cell_type": "code",
   "execution_count": 7,
   "metadata": {
    "id": "GgqCSiQtvdAA"
   },
   "outputs": [],
   "source": [
    "data_vacc=data_state.merge(vacc,on =['key','date'])"
   ]
  },
  {
   "cell_type": "code",
   "execution_count": 8,
   "metadata": {
    "colab": {
     "base_uri": "https://localhost:8080/",
     "height": 305
    },
    "id": "mMTlTRu9UQKf",
    "outputId": "995b62e9-94b3-4140-be66-2f2614561925"
   },
   "outputs": [
    {
     "data": {
      "text/html": [
       "<div>\n",
       "<style scoped>\n",
       "    .dataframe tbody tr th:only-of-type {\n",
       "        vertical-align: middle;\n",
       "    }\n",
       "\n",
       "    .dataframe tbody tr th {\n",
       "        vertical-align: top;\n",
       "    }\n",
       "\n",
       "    .dataframe thead th {\n",
       "        text-align: right;\n",
       "    }\n",
       "</style>\n",
       "<table border=\"1\" class=\"dataframe\">\n",
       "  <thead>\n",
       "    <tr style=\"text-align: right;\">\n",
       "      <th></th>\n",
       "      <th>key</th>\n",
       "      <th>date</th>\n",
       "      <th>subregion1_name</th>\n",
       "      <th>aggregation_level</th>\n",
       "      <th>new_confirmed</th>\n",
       "      <th>new_deceased</th>\n",
       "      <th>new_recovered</th>\n",
       "      <th>new_tested</th>\n",
       "      <th>total_deceased</th>\n",
       "      <th>total_recovered</th>\n",
       "      <th>total_hospitalized</th>\n",
       "      <th>current_hospitalized</th>\n",
       "      <th>population</th>\n",
       "      <th>mobility_grocery_and_pharmacy</th>\n",
       "      <th>mobility_residential</th>\n",
       "      <th>school_closing</th>\n",
       "      <th>workplace_closing</th>\n",
       "      <th>cancel_public_events</th>\n",
       "      <th>restrictions_on_gatherings</th>\n",
       "      <th>public_transport_closing</th>\n",
       "      <th>stay_at_home_requirements</th>\n",
       "      <th>restrictions_on_internal_movement</th>\n",
       "      <th>international_travel_controls</th>\n",
       "      <th>public_information_campaigns</th>\n",
       "      <th>testing_policy</th>\n",
       "      <th>contact_tracing</th>\n",
       "      <th>emergency_investment_in_healthcare</th>\n",
       "      <th>investment_in_vaccines</th>\n",
       "      <th>facial_coverings</th>\n",
       "      <th>average_temperature</th>\n",
       "      <th>new_persons_vaccinated</th>\n",
       "      <th>total_persons_vaccinated</th>\n",
       "      <th>new_persons_fully_vaccinated</th>\n",
       "      <th>total_persons_fully_vaccinated</th>\n",
       "      <th>new_vaccine_doses_administered</th>\n",
       "      <th>total_vaccine_doses_administered</th>\n",
       "    </tr>\n",
       "  </thead>\n",
       "  <tbody>\n",
       "    <tr>\n",
       "      <th>0</th>\n",
       "      <td>US_AK</td>\n",
       "      <td>2021-01-12</td>\n",
       "      <td>Alaska</td>\n",
       "      <td>1</td>\n",
       "      <td>294.0</td>\n",
       "      <td>0.0</td>\n",
       "      <td>NaN</td>\n",
       "      <td>9523.0</td>\n",
       "      <td>297.0</td>\n",
       "      <td>NaN</td>\n",
       "      <td>1164.0</td>\n",
       "      <td>79.0</td>\n",
       "      <td>738432.0</td>\n",
       "      <td>-11.0</td>\n",
       "      <td>11.0</td>\n",
       "      <td>3.0</td>\n",
       "      <td>1.0</td>\n",
       "      <td>2.0</td>\n",
       "      <td>4.0</td>\n",
       "      <td>0.0</td>\n",
       "      <td>1.0</td>\n",
       "      <td>2.0</td>\n",
       "      <td>3.0</td>\n",
       "      <td>2.0</td>\n",
       "      <td>3.0</td>\n",
       "      <td>1.0</td>\n",
       "      <td>0.0</td>\n",
       "      <td>0.0</td>\n",
       "      <td>NaN</td>\n",
       "      <td>-10.177778</td>\n",
       "      <td>NaN</td>\n",
       "      <td>22486.0</td>\n",
       "      <td>NaN</td>\n",
       "      <td>5400.0</td>\n",
       "      <td>NaN</td>\n",
       "      <td>35838.0</td>\n",
       "    </tr>\n",
       "    <tr>\n",
       "      <th>1</th>\n",
       "      <td>US_AK</td>\n",
       "      <td>2021-01-13</td>\n",
       "      <td>Alaska</td>\n",
       "      <td>1</td>\n",
       "      <td>332.0</td>\n",
       "      <td>1.0</td>\n",
       "      <td>NaN</td>\n",
       "      <td>7856.0</td>\n",
       "      <td>298.0</td>\n",
       "      <td>NaN</td>\n",
       "      <td>1174.0</td>\n",
       "      <td>68.0</td>\n",
       "      <td>738432.0</td>\n",
       "      <td>-8.0</td>\n",
       "      <td>11.0</td>\n",
       "      <td>3.0</td>\n",
       "      <td>1.0</td>\n",
       "      <td>2.0</td>\n",
       "      <td>4.0</td>\n",
       "      <td>0.0</td>\n",
       "      <td>1.0</td>\n",
       "      <td>2.0</td>\n",
       "      <td>3.0</td>\n",
       "      <td>2.0</td>\n",
       "      <td>3.0</td>\n",
       "      <td>1.0</td>\n",
       "      <td>0.0</td>\n",
       "      <td>0.0</td>\n",
       "      <td>NaN</td>\n",
       "      <td>-15.166667</td>\n",
       "      <td>2055.0</td>\n",
       "      <td>24541.0</td>\n",
       "      <td>766.0</td>\n",
       "      <td>6166.0</td>\n",
       "      <td>2842.0</td>\n",
       "      <td>38680.0</td>\n",
       "    </tr>\n",
       "    <tr>\n",
       "      <th>2</th>\n",
       "      <td>US_AK</td>\n",
       "      <td>2021-01-14</td>\n",
       "      <td>Alaska</td>\n",
       "      <td>1</td>\n",
       "      <td>291.0</td>\n",
       "      <td>1.0</td>\n",
       "      <td>NaN</td>\n",
       "      <td>7552.0</td>\n",
       "      <td>299.0</td>\n",
       "      <td>NaN</td>\n",
       "      <td>1179.0</td>\n",
       "      <td>81.0</td>\n",
       "      <td>738432.0</td>\n",
       "      <td>-12.0</td>\n",
       "      <td>11.0</td>\n",
       "      <td>3.0</td>\n",
       "      <td>1.0</td>\n",
       "      <td>2.0</td>\n",
       "      <td>4.0</td>\n",
       "      <td>0.0</td>\n",
       "      <td>1.0</td>\n",
       "      <td>2.0</td>\n",
       "      <td>3.0</td>\n",
       "      <td>2.0</td>\n",
       "      <td>3.0</td>\n",
       "      <td>1.0</td>\n",
       "      <td>0.0</td>\n",
       "      <td>0.0</td>\n",
       "      <td>NaN</td>\n",
       "      <td>-14.700000</td>\n",
       "      <td>10967.0</td>\n",
       "      <td>35508.0</td>\n",
       "      <td>0.0</td>\n",
       "      <td>NaN</td>\n",
       "      <td>3916.0</td>\n",
       "      <td>42596.0</td>\n",
       "    </tr>\n",
       "    <tr>\n",
       "      <th>3</th>\n",
       "      <td>US_AK</td>\n",
       "      <td>2021-01-15</td>\n",
       "      <td>Alaska</td>\n",
       "      <td>1</td>\n",
       "      <td>195.0</td>\n",
       "      <td>0.0</td>\n",
       "      <td>NaN</td>\n",
       "      <td>7792.0</td>\n",
       "      <td>299.0</td>\n",
       "      <td>NaN</td>\n",
       "      <td>1182.0</td>\n",
       "      <td>77.0</td>\n",
       "      <td>738432.0</td>\n",
       "      <td>-14.0</td>\n",
       "      <td>12.0</td>\n",
       "      <td>3.0</td>\n",
       "      <td>1.0</td>\n",
       "      <td>2.0</td>\n",
       "      <td>4.0</td>\n",
       "      <td>0.0</td>\n",
       "      <td>1.0</td>\n",
       "      <td>2.0</td>\n",
       "      <td>3.0</td>\n",
       "      <td>2.0</td>\n",
       "      <td>3.0</td>\n",
       "      <td>1.0</td>\n",
       "      <td>0.0</td>\n",
       "      <td>0.0</td>\n",
       "      <td>NaN</td>\n",
       "      <td>-11.305556</td>\n",
       "      <td>4038.0</td>\n",
       "      <td>39546.0</td>\n",
       "      <td>3240.0</td>\n",
       "      <td>9406.0</td>\n",
       "      <td>6443.0</td>\n",
       "      <td>49039.0</td>\n",
       "    </tr>\n",
       "    <tr>\n",
       "      <th>4</th>\n",
       "      <td>US_AK</td>\n",
       "      <td>2021-01-19</td>\n",
       "      <td>Alaska</td>\n",
       "      <td>1</td>\n",
       "      <td>161.0</td>\n",
       "      <td>1.0</td>\n",
       "      <td>NaN</td>\n",
       "      <td>9383.0</td>\n",
       "      <td>303.0</td>\n",
       "      <td>NaN</td>\n",
       "      <td>1190.0</td>\n",
       "      <td>61.0</td>\n",
       "      <td>738432.0</td>\n",
       "      <td>-14.0</td>\n",
       "      <td>11.0</td>\n",
       "      <td>2.0</td>\n",
       "      <td>1.0</td>\n",
       "      <td>2.0</td>\n",
       "      <td>4.0</td>\n",
       "      <td>0.0</td>\n",
       "      <td>1.0</td>\n",
       "      <td>2.0</td>\n",
       "      <td>3.0</td>\n",
       "      <td>2.0</td>\n",
       "      <td>3.0</td>\n",
       "      <td>1.0</td>\n",
       "      <td>0.0</td>\n",
       "      <td>0.0</td>\n",
       "      <td>NaN</td>\n",
       "      <td>-3.750000</td>\n",
       "      <td>15888.0</td>\n",
       "      <td>55434.0</td>\n",
       "      <td>1396.0</td>\n",
       "      <td>10802.0</td>\n",
       "      <td>17292.0</td>\n",
       "      <td>66331.0</td>\n",
       "    </tr>\n",
       "  </tbody>\n",
       "</table>\n",
       "</div>"
      ],
      "text/plain": [
       "     key  ... total_vaccine_doses_administered\n",
       "0  US_AK  ...                          35838.0\n",
       "1  US_AK  ...                          38680.0\n",
       "2  US_AK  ...                          42596.0\n",
       "3  US_AK  ...                          49039.0\n",
       "4  US_AK  ...                          66331.0\n",
       "\n",
       "[5 rows x 36 columns]"
      ]
     },
     "execution_count": 8,
     "metadata": {
      "tags": []
     },
     "output_type": "execute_result"
    }
   ],
   "source": [
    "data_vacc.head()"
   ]
  },
  {
   "cell_type": "code",
   "execution_count": 9,
   "metadata": {
    "id": "gwJMvSKMwqxq"
   },
   "outputs": [],
   "source": [
    "#filter on 50% null values\n",
    "data_vacc= data_vacc.dropna(thresh=0.5*len(data_vacc), axis=1)"
   ]
  },
  {
   "cell_type": "code",
   "execution_count": 10,
   "metadata": {
    "id": "NqjYyV51UJjE"
   },
   "outputs": [],
   "source": [
    "# fill nan values with 0\n",
    "data_vacc=data_vacc.fillna(0)"
   ]
  },
  {
   "cell_type": "markdown",
   "metadata": {
    "id": "qyQCQqq1cxlT"
   },
   "source": [
    "Data after cleaning"
   ]
  },
  {
   "cell_type": "code",
   "execution_count": 11,
   "metadata": {
    "colab": {
     "base_uri": "https://localhost:8080/",
     "height": 0
    },
    "id": "evkkmeiscvAC",
    "outputId": "13857dd0-6a8b-4691-8c9c-4efb60c5d321"
   },
   "outputs": [
    {
     "name": "stdout",
     "output_type": "stream",
     "text": [
      "<class 'pandas.core.frame.DataFrame'>\n",
      "Int64Index: 5600 entries, 0 to 5599\n",
      "Data columns (total 30 columns):\n",
      " #   Column                             Non-Null Count  Dtype  \n",
      "---  ------                             --------------  -----  \n",
      " 0   key                                5600 non-null   object \n",
      " 1   date                               5600 non-null   object \n",
      " 2   subregion1_name                    5600 non-null   object \n",
      " 3   aggregation_level                  5600 non-null   int64  \n",
      " 4   new_confirmed                      5600 non-null   float64\n",
      " 5   new_deceased                       5600 non-null   float64\n",
      " 6   new_tested                         5600 non-null   float64\n",
      " 7   total_deceased                     5600 non-null   float64\n",
      " 8   population                         5600 non-null   float64\n",
      " 9   mobility_grocery_and_pharmacy      5600 non-null   float64\n",
      " 10  mobility_residential               5600 non-null   float64\n",
      " 11  school_closing                     5600 non-null   float64\n",
      " 12  workplace_closing                  5600 non-null   float64\n",
      " 13  cancel_public_events               5600 non-null   float64\n",
      " 14  restrictions_on_gatherings         5600 non-null   float64\n",
      " 15  public_transport_closing           5600 non-null   float64\n",
      " 16  stay_at_home_requirements          5600 non-null   float64\n",
      " 17  restrictions_on_internal_movement  5600 non-null   float64\n",
      " 18  international_travel_controls      5600 non-null   float64\n",
      " 19  public_information_campaigns       5600 non-null   float64\n",
      " 20  testing_policy                     5600 non-null   float64\n",
      " 21  contact_tracing                    5600 non-null   float64\n",
      " 22  facial_coverings                   5600 non-null   float64\n",
      " 23  average_temperature                5600 non-null   float64\n",
      " 24  new_persons_vaccinated             5600 non-null   float64\n",
      " 25  total_persons_vaccinated           5600 non-null   float64\n",
      " 26  new_persons_fully_vaccinated       5600 non-null   float64\n",
      " 27  total_persons_fully_vaccinated     5600 non-null   float64\n",
      " 28  new_vaccine_doses_administered     5600 non-null   float64\n",
      " 29  total_vaccine_doses_administered   5600 non-null   float64\n",
      "dtypes: float64(26), int64(1), object(3)\n",
      "memory usage: 1.3+ MB\n"
     ]
    }
   ],
   "source": [
    "data_vacc.info()"
   ]
  },
  {
   "cell_type": "markdown",
   "metadata": {
    "id": "N5gyb1celu0s"
   },
   "source": [
    "## Feature engineering and selection"
   ]
  },
  {
   "cell_type": "markdown",
   "metadata": {
    "id": "FeyT7ulCVfa0"
   },
   "source": [
    "correlation analysis"
   ]
  },
  {
   "cell_type": "code",
   "execution_count": 12,
   "metadata": {
    "colab": {
     "base_uri": "https://localhost:8080/",
     "height": 0
    },
    "id": "qVMkCbPmvZoI",
    "outputId": "c7b14e95-1a36-48b1-b604-de913aa58f29"
   },
   "outputs": [
    {
     "name": "stdout",
     "output_type": "stream",
     "text": [
      "new_confirmed                        1.000000\n",
      "population                           0.643070\n",
      "new_tested                           0.603382\n",
      "total_deceased                       0.579939\n",
      "new_deceased                         0.557597\n",
      "new_persons_vaccinated               0.403238\n",
      "new_vaccine_doses_administered       0.369995\n",
      "school_closing                       0.303997\n",
      "new_persons_fully_vaccinated         0.283475\n",
      "mobility_residential                 0.281253\n",
      "total_persons_vaccinated             0.273496\n",
      "total_vaccine_doses_administered     0.250076\n",
      "stay_at_home_requirements            0.242595\n",
      "workplace_closing                    0.232184\n",
      "restrictions_on_gatherings           0.227648\n",
      "total_persons_fully_vaccinated       0.197260\n",
      "restrictions_on_internal_movement    0.177079\n",
      "international_travel_controls        0.154234\n",
      "public_information_campaigns         0.152315\n",
      "cancel_public_events                 0.137268\n",
      "testing_policy                       0.099020\n",
      "contact_tracing                      0.089500\n",
      "facial_coverings                     0.066908\n",
      "public_transport_closing            -0.000899\n",
      "average_temperature                 -0.006273\n",
      "mobility_grocery_and_pharmacy       -0.239434\n",
      "Name: new_confirmed, dtype: float64\n"
     ]
    }
   ],
   "source": [
    "# correlation analysis\n",
    "corr =data_vacc[['new_confirmed',\n",
    " 'new_deceased',\n",
    " 'new_tested',\n",
    " 'total_deceased',\n",
    " 'population',\n",
    " 'mobility_grocery_and_pharmacy',\n",
    " 'mobility_residential',\n",
    " 'school_closing',\n",
    " 'workplace_closing',\n",
    " 'cancel_public_events',\n",
    " 'restrictions_on_gatherings',\n",
    " 'public_transport_closing',\n",
    " 'stay_at_home_requirements',\n",
    " 'restrictions_on_internal_movement',\n",
    " 'international_travel_controls',\n",
    " 'public_information_campaigns',\n",
    " 'testing_policy',\n",
    " 'contact_tracing',\n",
    " 'facial_coverings',\n",
    " 'average_temperature',\n",
    " 'new_persons_vaccinated',\n",
    " 'total_persons_vaccinated',\n",
    " 'new_persons_fully_vaccinated',\n",
    " 'total_persons_fully_vaccinated',\n",
    " 'new_vaccine_doses_administered',\n",
    " 'total_vaccine_doses_administered']].corr()\n",
    "features = corr['new_confirmed'].sort_values(ascending=False)\n",
    "print(features)"
   ]
  },
  {
   "cell_type": "code",
   "execution_count": 13,
   "metadata": {
    "colab": {
     "base_uri": "https://localhost:8080/",
     "height": 446
    },
    "id": "UKEROx7YvvwE",
    "outputId": "d7325d0b-e958-4225-e295-9a6b8f6992a2"
   },
   "outputs": [
    {
     "data": {
      "text/plain": [
       "<matplotlib.axes._subplots.AxesSubplot at 0x7f1536354f10>"
      ]
     },
     "execution_count": 13,
     "metadata": {
      "tags": []
     },
     "output_type": "execute_result"
    },
    {
     "data": {
      "image/png": "[encoded data removed]",
      "text/plain": [
       "<Figure size 432x288 with 2 Axes>"
      ]
     },
     "metadata": {
      "needs_background": "light",
      "tags": []
     },
     "output_type": "display_data"
    }
   ],
   "source": [
    "sns.heatmap(corr)"
   ]
  },
  {
   "cell_type": "code",
   "execution_count": 14,
   "metadata": {
    "colab": {
     "base_uri": "https://localhost:8080/",
     "height": 0
    },
    "id": "aV5DVfmhFY98",
    "outputId": "44a67ffd-e3ad-4aec-b3e0-6e8da5fb242f"
   },
   "outputs": [
    {
     "data": {
      "text/plain": [
       "new_confirmed                        1.000000\n",
       "population                           0.643070\n",
       "new_tested                           0.603382\n",
       "total_deceased                       0.579939\n",
       "new_deceased                         0.557597\n",
       "new_persons_vaccinated               0.403238\n",
       "new_vaccine_doses_administered       0.369995\n",
       "school_closing                       0.303997\n",
       "new_persons_fully_vaccinated         0.283475\n",
       "mobility_residential                 0.281253\n",
       "total_persons_vaccinated             0.273496\n",
       "total_vaccine_doses_administered     0.250076\n",
       "stay_at_home_requirements            0.242595\n",
       "workplace_closing                    0.232184\n",
       "restrictions_on_gatherings           0.227648\n",
       "total_persons_fully_vaccinated       0.197260\n",
       "restrictions_on_internal_movement    0.177079\n",
       "international_travel_controls        0.154234\n",
       "public_information_campaigns         0.152315\n",
       "cancel_public_events                 0.137268\n",
       "testing_policy                       0.099020\n",
       "contact_tracing                      0.089500\n",
       "facial_coverings                     0.066908\n",
       "public_transport_closing            -0.000899\n",
       "average_temperature                 -0.006273\n",
       "mobility_grocery_and_pharmacy       -0.239434\n",
       "Name: new_confirmed, dtype: float64"
      ]
     },
     "execution_count": 14,
     "metadata": {
      "tags": []
     },
     "output_type": "execute_result"
    }
   ],
   "source": [
    "features"
   ]
  },
  {
   "cell_type": "code",
   "execution_count": 15,
   "metadata": {
    "colab": {
     "base_uri": "https://localhost:8080/",
     "height": 0
    },
    "id": "ZVLmBQ_WgJlz",
    "outputId": "ed7dc37e-e501-4e58-9237-db0e7d844393"
   },
   "outputs": [
    {
     "name": "stdout",
     "output_type": "stream",
     "text": [
      "<class 'pandas.core.frame.DataFrame'>\n",
      "Int64Index: 5600 entries, 0 to 5599\n",
      "Data columns (total 30 columns):\n",
      " #   Column                             Non-Null Count  Dtype  \n",
      "---  ------                             --------------  -----  \n",
      " 0   key                                5600 non-null   object \n",
      " 1   date                               5600 non-null   object \n",
      " 2   subregion1_name                    5600 non-null   object \n",
      " 3   aggregation_level                  5600 non-null   int64  \n",
      " 4   new_confirmed                      5600 non-null   float64\n",
      " 5   new_deceased                       5600 non-null   float64\n",
      " 6   new_tested                         5600 non-null   float64\n",
      " 7   total_deceased                     5600 non-null   float64\n",
      " 8   population                         5600 non-null   float64\n",
      " 9   mobility_grocery_and_pharmacy      5600 non-null   float64\n",
      " 10  mobility_residential               5600 non-null   float64\n",
      " 11  school_closing                     5600 non-null   float64\n",
      " 12  workplace_closing                  5600 non-null   float64\n",
      " 13  cancel_public_events               5600 non-null   float64\n",
      " 14  restrictions_on_gatherings         5600 non-null   float64\n",
      " 15  public_transport_closing           5600 non-null   float64\n",
      " 16  stay_at_home_requirements          5600 non-null   float64\n",
      " 17  restrictions_on_internal_movement  5600 non-null   float64\n",
      " 18  international_travel_controls      5600 non-null   float64\n",
      " 19  public_information_campaigns       5600 non-null   float64\n",
      " 20  testing_policy                     5600 non-null   float64\n",
      " 21  contact_tracing                    5600 non-null   float64\n",
      " 22  facial_coverings                   5600 non-null   float64\n",
      " 23  average_temperature                5600 non-null   float64\n",
      " 24  new_persons_vaccinated             5600 non-null   float64\n",
      " 25  total_persons_vaccinated           5600 non-null   float64\n",
      " 26  new_persons_fully_vaccinated       5600 non-null   float64\n",
      " 27  total_persons_fully_vaccinated     5600 non-null   float64\n",
      " 28  new_vaccine_doses_administered     5600 non-null   float64\n",
      " 29  total_vaccine_doses_administered   5600 non-null   float64\n",
      "dtypes: float64(26), int64(1), object(3)\n",
      "memory usage: 1.3+ MB\n"
     ]
    }
   ],
   "source": [
    "data_vacc.info()"
   ]
  },
  {
   "cell_type": "code",
   "execution_count": 16,
   "metadata": {
    "id": "xHU5vF56jSM2"
   },
   "outputs": [],
   "source": [
    "# X_train, X_test, y_train, y_test = train_test_split(\n",
    "#     data_vacc.drop(labels=['key', 'date','subregion1_name','aggregation_level','new_confirmed' ], axis=1),\n",
    "#     data_vacc['new_confirmed'],\n",
    "#     test_size=0.3,\n",
    "#     random_state=42)\n",
    "# X_train.shape, X_test.shape"
   ]
  },
  {
   "cell_type": "markdown",
   "metadata": {
    "id": "dV6GSfgDVkV5"
   },
   "source": [
    "Feature improtance from lasso"
   ]
  },
  {
   "cell_type": "code",
   "execution_count": 17,
   "metadata": {
    "id": "z3AkoTduZ0Tk"
   },
   "outputs": [],
   "source": [
    "x= data_vacc.drop(labels=['key', 'date','subregion1_name','aggregation_level','new_confirmed' ], axis=1)\n",
    "y=data_vacc['new_confirmed']"
   ]
  },
  {
   "cell_type": "code",
   "execution_count": 18,
   "metadata": {
    "id": "4fUDJZyPd1S2"
   },
   "outputs": [],
   "source": [
    "scaler = StandardScaler()\n",
    "# fit and transform the data\n",
    "x_scaled = scaler.fit_transform(x)\n",
    "x_scaled = pd.DataFrame(x_scaled, columns = x.columns)"
   ]
  },
  {
   "cell_type": "code",
   "execution_count": 19,
   "metadata": {
    "id": "3KzPe9LZj1tT"
   },
   "outputs": [],
   "source": [
    "las = LassoCV()\n",
    "las.fit(x_scaled, y)\n",
    "coef = pd.Series(las.coef_, index = x.columns)"
   ]
  },
  {
   "cell_type": "code",
   "execution_count": 20,
   "metadata": {
    "colab": {
     "base_uri": "https://localhost:8080/",
     "height": 0
    },
    "id": "DHwqAZz0hGWw",
    "outputId": "ff92b6dc-33c5-4da3-de1f-88120fcc3d84"
   },
   "outputs": [
    {
     "name": "stdout",
     "output_type": "stream",
     "text": [
      "Lasso picked 24 variables and eliminated the other 1 variables\n"
     ]
    }
   ],
   "source": [
    "print(\"Lasso picked \" + str(sum(coef != 0)) + \" variables and eliminated the other \" +  str(sum(coef == 0)) + \" variables\")"
   ]
  },
  {
   "cell_type": "code",
   "execution_count": 21,
   "metadata": {
    "colab": {
     "base_uri": "https://localhost:8080/",
     "height": 625
    },
    "id": "gwXjDnk2hMck",
    "outputId": "766f2f71-1d1f-4887-a1f7-fa521c40ac8c"
   },
   "outputs": [
    {
     "data": {
      "text/plain": [
       "Text(0.5, 1.0, 'Feature importance using Lasso Model')"
      ]
     },
     "execution_count": 21,
     "metadata": {
      "tags": []
     },
     "output_type": "execute_result"
    },
    {
     "data": {
      "image/png": "[encoded data removed]",
      "text/plain": [
       "<Figure size 576x720 with 1 Axes>"
      ]
     },
     "metadata": {
      "needs_background": "light",
      "tags": []
     },
     "output_type": "display_data"
    }
   ],
   "source": [
    "imp_coef = coef.sort_values()\n",
    "import matplotlib\n",
    "import matplotlib.pyplot as plt\n",
    "matplotlib.rcParams['figure.figsize'] = (8.0, 10.0)\n",
    "imp_coef.plot(kind = \"barh\")\n",
    "plt.title(\"Feature importance using Lasso Model\")"
   ]
  },
  {
   "cell_type": "markdown",
   "metadata": {
    "id": "RnYLuHvHVq2j"
   },
   "source": [
    "feature importance from xgboost"
   ]
  },
  {
   "cell_type": "code",
   "execution_count": 22,
   "metadata": {
    "colab": {
     "base_uri": "https://localhost:8080/",
     "height": 721
    },
    "id": "nUbtzJlChRpO",
    "outputId": "b7e5c07e-aa51-4d57-8bb5-ab4ad3ea9973"
   },
   "outputs": [
    {
     "name": "stdout",
     "output_type": "stream",
     "text": [
      "[00:13:20] WARNING: ../src/learner.cc:1095: Starting in XGBoost 1.3.0, the default evaluation metric used with the objective 'multi:softprob' was changed from 'merror' to 'mlogloss'. Explicitly set eval_metric if you'd like to restore the old behavior.\n",
      "[0.6047195  0.02751637 0.00430798 0.04818324 0.00522612 0.00508432\n",
      " 0.19653411 0.00842704 0.00723625 0.00565997 0.00999014 0.00665342\n",
      " 0.00661303 0.         0.00399765 0.00626923 0.00442762 0.0049843\n",
      " 0.00752253 0.00385829 0.01432021 0.00337166 0.00389567 0.00327817\n",
      " 0.00792316]\n"
     ]
    },
    {
     "data": {
      "image/png": "[encoded data removed]",
      "text/plain": [
       "<Figure size 576x720 with 1 Axes>"
      ]
     },
     "metadata": {
      "needs_background": "light",
      "tags": []
     },
     "output_type": "display_data"
    }
   ],
   "source": [
    "from xgboost import XGBClassifier\n",
    "Xgb = XGBClassifier()\n",
    "Xgb.fit(x_scaled, y)\n",
    "# feature importance\n",
    "print(Xgb.feature_importances_)\n",
    "plt.bar(range(len(Xgb.feature_importances_)), Xgb.feature_importances_)\n",
    "plt.show()"
   ]
  },
  {
   "cell_type": "code",
   "execution_count": 23,
   "metadata": {
    "colab": {
     "base_uri": "https://localhost:8080/",
     "height": 621
    },
    "id": "tcddh-xzrO5U",
    "outputId": "238b18c7-c628-4831-a208-c6c1f9a4d890"
   },
   "outputs": [
    {
     "data": {
      "image/png": "[encoded data removed]",
      "text/plain": [
       "<Figure size 576x720 with 1 Axes>"
      ]
     },
     "metadata": {
      "needs_background": "light",
      "tags": []
     },
     "output_type": "display_data"
    }
   ],
   "source": [
    "from xgboost import plot_importance\n",
    "plot_importance(Xgb)\n",
    "plt.show()"
   ]
  },
  {
   "cell_type": "markdown",
   "metadata": {
    "id": "BG9ACHJ-b69A"
   },
   "source": [
    "### We tried to view the result from lasso and xgboost using random spilt data"
   ]
  },
  {
   "cell_type": "code",
   "execution_count": 24,
   "metadata": {
    "id": "H3V5I-ydyQrH"
   },
   "outputs": [],
   "source": [
    "X_train, X_test, y_train, y_test = train_test_split(\n",
    "    data_vacc.drop(labels=['key', 'date','subregion1_name','aggregation_level','new_confirmed' ], axis=1),\n",
    "    data_vacc['new_confirmed'],\n",
    "    test_size=0.3,\n",
    "    random_state=42)"
   ]
  },
  {
   "cell_type": "code",
   "execution_count": 25,
   "metadata": {
    "id": "CDTMriN1C1Gw"
   },
   "outputs": [],
   "source": [
    "scaler = StandardScaler()\n",
    "# fit and transform the data\n",
    "x_train_scaled = scaler.fit_transform(X_train)\n",
    "x_train_scaled = pd.DataFrame(x_train_scaled, columns = X_train.columns)"
   ]
  },
  {
   "cell_type": "code",
   "execution_count": 26,
   "metadata": {
    "colab": {
     "base_uri": "https://localhost:8080/",
     "height": 662
    },
    "id": "3ZHr8gvuC-l4",
    "outputId": "b20b47df-3736-405b-b85b-b5dbcab0e4ce"
   },
   "outputs": [
    {
     "name": "stdout",
     "output_type": "stream",
     "text": [
      "Best alpha using built-in LassoCV: 1.913033\n",
      "Best score using built-in LassoCV: 0.716885\n"
     ]
    },
    {
     "data": {
      "text/plain": [
       "Text(0.5, 1.0, 'Feature importance using Lasso Model')"
      ]
     },
     "execution_count": 26,
     "metadata": {
      "tags": []
     },
     "output_type": "execute_result"
    },
    {
     "data": {
      "image/png": "[encoded data removed]",
      "text/plain": [
       "<Figure size 576x720 with 1 Axes>"
      ]
     },
     "metadata": {
      "needs_background": "light",
      "tags": []
     },
     "output_type": "display_data"
    }
   ],
   "source": [
    "las2 = LassoCV()\n",
    "las2.fit(x_train_scaled, y_train)\n",
    "print(\"Best alpha using built-in LassoCV: %f\" %las2.alpha_)\n",
    "print(\"Best score using built-in LassoCV: %f\" %las2.score(x_train_scaled,y_train))\n",
    "coef = pd.Series(las2.coef_, index = X_train.columns)\n",
    "imp_coef = coef.sort_values()\n",
    "import matplotlib\n",
    "import matplotlib.pyplot as plt\n",
    "matplotlib.rcParams['figure.figsize'] = (8.0, 10.0)\n",
    "imp_coef.plot(kind = \"barh\")\n",
    "plt.title(\"Feature importance using Lasso Model\")"
   ]
  },
  {
   "cell_type": "code",
   "execution_count": 27,
   "metadata": {
    "colab": {
     "base_uri": "https://localhost:8080/",
     "height": 659
    },
    "id": "KFF8C_4GDHFQ",
    "outputId": "8014ee9c-09b7-4a6c-eb0b-99c6ab2639d2"
   },
   "outputs": [
    {
     "name": "stdout",
     "output_type": "stream",
     "text": [
      "[00:23:53] WARNING: ../src/learner.cc:1095: Starting in XGBoost 1.3.0, the default evaluation metric used with the objective 'multi:softprob' was changed from 'merror' to 'mlogloss'. Explicitly set eval_metric if you'd like to restore the old behavior.\n"
     ]
    },
    {
     "data": {
      "image/png": "[encoded data removed]",
      "text/plain": [
       "<Figure size 576x720 with 1 Axes>"
      ]
     },
     "metadata": {
      "needs_background": "light",
      "tags": []
     },
     "output_type": "display_data"
    }
   ],
   "source": [
    "from xgboost import XGBClassifier\n",
    "Xgb2 = XGBClassifier()\n",
    "Xgb2.fit(x_train_scaled, y_train)\n",
    "from xgboost import plot_importance\n",
    "plot_importance(Xgb2)\n",
    "plt.show()"
   ]
  },
  {
   "cell_type": "markdown",
   "metadata": {
    "id": "AgtQyRjHF37D"
   },
   "source": [
    "### We combined our observation and choose the top 8 features that top performs all methods(correlation, lasso, xgboost) "
   ]
  },
  {
   "cell_type": "code",
   "execution_count": 28,
   "metadata": {
    "id": "sOMB3-jLDq0D"
   },
   "outputs": [],
   "source": [
    "new_features = ['new_tested','average_temperature','total_deceased','new_persons_fully_vaccinated','total_persons_fully_vaccinated','new_vaccine_doses_administered','population','new_confirmed']"
   ]
  },
  {
   "cell_type": "code",
   "execution_count": 29,
   "metadata": {
    "id": "JzE9MR1pJSjU"
   },
   "outputs": [],
   "source": [
    "data_final = data_vacc[new_features]"
   ]
  },
  {
   "cell_type": "code",
   "execution_count": 30,
   "metadata": {
    "colab": {
     "base_uri": "https://localhost:8080/",
     "height": 0
    },
    "id": "DaUlp5VA18hD",
    "outputId": "df0ec75f-f726-4467-99ae-cbb64d4e10ac"
   },
   "outputs": [
    {
     "name": "stdout",
     "output_type": "stream",
     "text": [
      "<class 'pandas.core.frame.DataFrame'>\n",
      "Int64Index: 5600 entries, 0 to 5599\n",
      "Data columns (total 8 columns):\n",
      " #   Column                          Non-Null Count  Dtype  \n",
      "---  ------                          --------------  -----  \n",
      " 0   new_tested                      5600 non-null   float64\n",
      " 1   average_temperature             5600 non-null   float64\n",
      " 2   total_deceased                  5600 non-null   float64\n",
      " 3   new_persons_fully_vaccinated    5600 non-null   float64\n",
      " 4   total_persons_fully_vaccinated  5600 non-null   float64\n",
      " 5   new_vaccine_doses_administered  5600 non-null   float64\n",
      " 6   population                      5600 non-null   float64\n",
      " 7   new_confirmed                   5600 non-null   float64\n",
      "dtypes: float64(8)\n",
      "memory usage: 393.8 KB\n"
     ]
    }
   ],
   "source": [
    "data_final.info()"
   ]
  },
  {
   "cell_type": "markdown",
   "metadata": {
    "id": "kOv3vjEgdA8A"
   },
   "source": [
    "##  Build machine learning models"
   ]
  },
  {
   "cell_type": "code",
   "execution_count": 31,
   "metadata": {
    "id": "gAVngVbjIJLK"
   },
   "outputs": [],
   "source": [
    "# train test spilt\n",
    "x_train, x_test, y_train, y_test = train_test_split(\n",
    "    data_final.drop(labels=['new_confirmed' ], axis=1),\n",
    "    data_final['new_confirmed'],\n",
    "    test_size=0.3,\n",
    "    random_state=4)\n",
    "\n",
    "scaler = StandardScaler()\n",
    "\n",
    "normalized_x_train = pd.DataFrame(scaler.fit_transform(x_train))\n",
    "normalized_x_test = pd.DataFrame(scaler.transform(x_test))"
   ]
  },
  {
   "cell_type": "code",
   "execution_count": 32,
   "metadata": {
    "id": "nMxAynw_IJTl"
   },
   "outputs": [],
   "source": [
    "#lasso model\n",
    "clf_lasso = LassoLarsIC(fit_intercept=True, normalize=True, copy_X=True)\n",
    "clf_lasso.fit(normalized_x_train,  y_train)\n",
    "test_predict_la= clf_lasso.predict(normalized_x_test)\n",
    "rmse_lasso=mean_squared_error(y_test,test_predict_la)\n",
    "\n",
    "#ridge model\n",
    "clf_ridge = RidgeCV(fit_intercept=True, normalize=True)\n",
    "clf_ridge.fit(normalized_x_train,  y_train)\n",
    "test_predict_ri= clf_ridge.predict(normalized_x_test)\n",
    "rmse_ridge=mean_squared_error(y_test,test_predict_ri)\n",
    "\n",
    "#RF model\n",
    "clf_rf = RandomForestRegressor(n_estimators=100,random_state=1337,max_depth=13,min_samples_leaf=2,verbose=0)\n",
    "clf_rf.fit(normalized_x_train,  y_train)\n",
    "test_predict_rf= clf_rf.predict(normalized_x_test)\n",
    "rmse_rf=mean_squared_error(y_test,test_predict_rf)\n",
    "\n",
    "#GradientBoostingRegressor\n",
    "clf_GBR = GradientBoostingRegressor(random_state = 1337,verbose = 0,n_estimators = 100,learning_rate = 0.1,loss = 'ls',max_depth = 3)\n",
    "clf_GBR.fit(normalized_x_train, y_train)\n",
    "test_predict_GBR= clf_GBR.predict(normalized_x_test)\n",
    "rmse_GBR=mean_squared_error(y_test,test_predict_GBR)"
   ]
  },
  {
   "cell_type": "code",
   "execution_count": 33,
   "metadata": {
    "id": "xdLnGWTrIJWB"
   },
   "outputs": [],
   "source": [
    "# select the best model based on rmse\n",
    "current_score = rmse_lasso\n",
    "best_model=clf_lasso\n",
    "for model in [clf_lasso,clf_ridge,clf_rf,clf_GBR]:\n",
    "    if mean_squared_error(y_test,model.predict(normalized_x_test)) < current_score:\n",
    "        best_model= model\n",
    "        current_score = mean_squared_error(y_test,best_model.predict(normalized_x_test))\n",
    "\n",
    "r2=r2_score(y_test,best_model.predict(normalized_x_test))"
   ]
  },
  {
   "cell_type": "code",
   "execution_count": 34,
   "metadata": {
    "colab": {
     "base_uri": "https://localhost:8080/",
     "height": 0
    },
    "id": "4WyL7b-HKwP8",
    "outputId": "0f9b6a1b-8964-46a3-a1cc-ba947553311b"
   },
   "outputs": [
    {
     "data": {
      "text/plain": [
       "array([10761.51692857,  4352.22918347,  3384.61185157, ...,\n",
       "        2830.27550794,   180.71143611,  2954.52472375])"
      ]
     },
     "execution_count": 34,
     "metadata": {
      "tags": []
     },
     "output_type": "execute_result"
    }
   ],
   "source": [
    "best_model.predict(normalized_x_test)"
   ]
  },
  {
   "cell_type": "code",
   "execution_count": 35,
   "metadata": {
    "colab": {
     "base_uri": "https://localhost:8080/",
     "height": 0
    },
    "id": "8zpy4SI_M_XE",
    "outputId": "f2407fcc-cdb8-4225-c5ff-0b62f930bd38"
   },
   "outputs": [
    {
     "data": {
      "text/plain": [
       "3723    10025.0\n",
       "4784     2647.0\n",
       "3427     3656.0\n",
       "3513      672.0\n",
       "4810      859.0\n",
       "         ...   \n",
       "3042     2643.0\n",
       "2709        0.0\n",
       "575      3843.0\n",
       "2938      230.0\n",
       "1688     3549.0\n",
       "Name: new_confirmed, Length: 1680, dtype: float64"
      ]
     },
     "execution_count": 35,
     "metadata": {
      "tags": []
     },
     "output_type": "execute_result"
    }
   ],
   "source": [
    "y_test"
   ]
  },
  {
   "cell_type": "code",
   "execution_count": 36,
   "metadata": {
    "colab": {
     "base_uri": "https://localhost:8080/",
     "height": 0
    },
    "id": "xVhqFpD6WFXt",
    "outputId": "75612969-c442-44c9-81d8-dc1e0166bcec"
   },
   "outputs": [
    {
     "data": {
      "text/plain": [
       "RandomForestRegressor(bootstrap=True, ccp_alpha=0.0, criterion='mse',\n",
       "                      max_depth=13, max_features='auto', max_leaf_nodes=None,\n",
       "                      max_samples=None, min_impurity_decrease=0.0,\n",
       "                      min_impurity_split=None, min_samples_leaf=2,\n",
       "                      min_samples_split=2, min_weight_fraction_leaf=0.0,\n",
       "                      n_estimators=100, n_jobs=None, oob_score=False,\n",
       "                      random_state=1337, verbose=0, warm_start=False)"
      ]
     },
     "execution_count": 36,
     "metadata": {
      "tags": []
     },
     "output_type": "execute_result"
    }
   ],
   "source": [
    "best_model"
   ]
  },
  {
   "cell_type": "markdown",
   "metadata": {
    "id": "HoX56SRPbhuS"
   },
   "source": [
    "### Tuning parameters for RF models using GridSearch"
   ]
  },
  {
   "cell_type": "code",
   "execution_count": 37,
   "metadata": {
    "colab": {
     "base_uri": "https://localhost:8080/",
     "height": 0
    },
    "id": "g6MR6xypWJQY",
    "outputId": "c0519bef-f11c-4f0c-c4e5-0c306e909653"
   },
   "outputs": [
    {
     "name": "stdout",
     "output_type": "stream",
     "text": [
      "{'max_depth': 15, 'min_samples_leaf': 2, 'n_estimators': 200}\n"
     ]
    }
   ],
   "source": [
    "\n",
    "from sklearn.model_selection import GridSearchCV\n",
    "from sklearn.metrics import accuracy_score\n",
    "gs_rf = RandomForestRegressor(random_state=1337,n_jobs=-1)\n",
    "\n",
    "\n",
    "params = [{\"n_estimators\": [50,100,150,200], \"min_samples_leaf\": [1, 2, 4, 8, 16], \"max_depth\": [3, 6, 9,12,15]}]\n",
    "\n",
    "cv = GridSearchCV(gs_rf, param_grid=params, n_jobs=-1)\n",
    "cv.fit(normalized_x_train,  y_train)\n",
    "predicted_y = cv.predict(normalized_x_test)\n",
    "print(cv.best_params_)\n"
   ]
  },
  {
   "cell_type": "markdown",
   "metadata": {
    "id": "pMjLDzc-bZPy"
   },
   "source": [
    "### Get the r2 result for our best model"
   ]
  },
  {
   "cell_type": "code",
   "execution_count": 38,
   "metadata": {
    "colab": {
     "base_uri": "https://localhost:8080/",
     "height": 0
    },
    "id": "O0u9R0Qh7xGv",
    "outputId": "8379afc3-f6ab-4066-8f2f-5e1059fa82e5"
   },
   "outputs": [
    {
     "name": "stdout",
     "output_type": "stream",
     "text": [
      "0.8874879267155849\n"
     ]
    }
   ],
   "source": [
    "r2=r2_score(y_test,predicted_y)\n",
    "print(r2)"
   ]
  },
  {
   "cell_type": "markdown",
   "metadata": {
    "id": "RCT8RQ9ebIpN"
   },
   "source": [
    "### Plot daily cases in country level "
   ]
  },
  {
   "cell_type": "code",
   "execution_count": 39,
   "metadata": {
    "id": "JrJGAuZI-El2"
   },
   "outputs": [],
   "source": [
    "data_plot = data_vacc[['date','new_confirmed']].groupby('date').sum().reset_index().set_index('date')\n",
    "data_plot = data_plot[data_plot.index>='2021-03-01']"
   ]
  },
  {
   "cell_type": "code",
   "execution_count": 40,
   "metadata": {
    "colab": {
     "base_uri": "https://localhost:8080/",
     "height": 545
    },
    "id": "njDQ0lcFNdbp",
    "outputId": "c89b1c48-c8f6-4d14-91ff-eb5166b7afaf"
   },
   "outputs": [
    {
     "data": {
      "image/png": "[encoded data removed]",
      "text/plain": [
       "<Figure size 1152x576 with 1 Axes>"
      ]
     },
     "metadata": {
      "needs_background": "light",
      "tags": []
     },
     "output_type": "display_data"
    }
   ],
   "source": [
    "ax = data_plot.plot(kind='bar', figsize=(16, 8))"
   ]
  },
  {
   "cell_type": "code",
   "execution_count": 41,
   "metadata": {
    "id": "MwWt14zEEJP5"
   },
   "outputs": [],
   "source": [
    "# do predicts on past 5 days\n",
    "date1 = '2021-04-20'\n",
    "date2= '2021-04-24'\n",
    "data_pre = data_vacc[(data_vacc.date>=date1)&(data_vacc.date<=date2)]"
   ]
  },
  {
   "cell_type": "code",
   "execution_count": 42,
   "metadata": {
    "id": "97NbWjEJAwwP"
   },
   "outputs": [],
   "source": [
    "data_pre2 =data_pre[['new_tested','average_temperature','total_deceased','new_persons_fully_vaccinated','total_persons_fully_vaccinated','new_vaccine_doses_administered','population']]\n",
    "x_predict = pd.DataFrame(scaler.transform(data_pre2))"
   ]
  },
  {
   "cell_type": "code",
   "execution_count": 43,
   "metadata": {
    "id": "7KT8lnwWGHQZ"
   },
   "outputs": [],
   "source": [
    "predicted_y = cv.predict(x_predict)"
   ]
  },
  {
   "cell_type": "code",
   "execution_count": 44,
   "metadata": {
    "id": "hulwdGTwKdZd"
   },
   "outputs": [],
   "source": [
    "data_prec = pd.DataFrame(predicted_y.tolist(), index=data_pre.date,columns = ['predict_cases'])"
   ]
  },
  {
   "cell_type": "code",
   "execution_count": 45,
   "metadata": {
    "id": "kJss-1E6KplG"
   },
   "outputs": [],
   "source": [
    "data_1 = data_prec.groupby('date').sum()"
   ]
  },
  {
   "cell_type": "code",
   "execution_count": 46,
   "metadata": {
    "id": "ddTxS2TuVokm"
   },
   "outputs": [],
   "source": [
    "a=data_plot.reset_index().merge(data_1.reset_index(), on='date',how = 'left').set_index('date')"
   ]
  },
  {
   "cell_type": "markdown",
   "metadata": {
    "id": "rbpIrBRrVwzd"
   },
   "source": [
    "## comparison between our result and the ground truth"
   ]
  },
  {
   "cell_type": "code",
   "execution_count": 47,
   "metadata": {
    "colab": {
     "base_uri": "https://localhost:8080/",
     "height": 653
    },
    "id": "_89cO4XAM6Co",
    "outputId": "9300ab52-4a9b-4819-826f-b7b21c54e50f"
   },
   "outputs": [
    {
     "data": {
      "image/png": "[encoded data removed]",
      "text/plain": [
       "<Figure size 1152x720 with 1 Axes>"
      ]
     },
     "metadata": {
      "needs_background": "light",
      "tags": []
     },
     "output_type": "display_data"
    }
   ],
   "source": [
    "ax = a['new_confirmed'].plot(kind='bar', figsize=(16, 10))\n",
    "ax.bar(a.index,a['predict_cases'],color='red', label='predict',width = 0.1)\n",
    "ax.set_ylabel('Cases')\n",
    "ax.legend();"
   ]
  },
  {
   "cell_type": "code",
   "execution_count": 47,
   "metadata": {
    "id": "luSzdPggZJQ1"
   },
   "outputs": [],
   "source": []
  }
 ],
 "metadata": {
  "colab": {
   "collapsed_sections": [],
   "name": "CSE6242.ipynb",
   "provenance": []
  },
  "kernelspec": {
   "display_name": "Python 3",
   "language": "python",
   "name": "python3"
  },
  "language_info": {
   "codemirror_mode": {
    "name": "ipython",
    "version": 3
   },
   "file_extension": ".py",
   "mimetype": "text/x-python",
   "name": "python",
   "nbconvert_exporter": "python",
   "pygments_lexer": "ipython3",
   "version": "3.7.3"
  }
 },
 "nbformat": 4,
 "nbformat_minor": 4
}
